{
  "nbformat": 4,
  "nbformat_minor": 0,
  "metadata": {
    "colab": {
      "name": "Hashing Search.ipynb",
      "provenance": [],
      "collapsed_sections": [],
      "authorship_tag": "ABX9TyMUxVuLVXSzh9gm/SeqA3dl",
      "include_colab_link": true
    },
    "kernelspec": {
      "name": "python3",
      "display_name": "Python 3"
    }
  },
  "cells": [
    {
      "cell_type": "markdown",
      "metadata": {
        "id": "view-in-github",
        "colab_type": "text"
      },
      "source": [
        "<a href=\"https://colab.research.google.com/github/littlesock/Algorithm/blob/master/Hashing_Search.ipynb\" target=\"_parent\"><img src=\"https://colab.research.google.com/assets/colab-badge.svg\" alt=\"Open In Colab\"/></a>"
      ]
    },
    {
      "cell_type": "code",
      "metadata": {
        "id": "qOWOCGQYw07s",
        "outputId": "48c2dfcb-ff0a-4ce8-9b71-a28bdefa5159",
        "colab": {
          "base_uri": "https://localhost:8080/",
          "height": 225
        }
      },
      "source": [
        "# 線性探測法 ( linear probing )\n",
        "\n",
        "import random\n",
        "\n",
        "INDEXBOX = 10\n",
        "MAXNUM = 7\n",
        "\n",
        "def print_data(data, max_number) :\n",
        "  print('\\t', end = '')\n",
        "  for i in range(max_number) :\n",
        "    print('[%2d] ' % data[i], end = '')\n",
        "  print()\n",
        "\n",
        "def create_table (num, index) :\n",
        "  tmp = num % INDEXBOX\n",
        "  while True :\n",
        "    if index[tmp] == -1 :\n",
        "      index[tmp] = num\n",
        "      break\n",
        "    else :\n",
        "      tmp = (tmp + 1) % INDEXBOX\n",
        "\n",
        "# Main\n",
        "\n",
        "index = [None] * INDEXBOX\n",
        "data = [None] * MAXNUM\n",
        "\n",
        "print('原始陣列值 : ')\n",
        "for i in range(MAXNUM) :\n",
        "  data[i] = random.randint(1, 20)\n",
        "for i in range(INDEXBOX) :\n",
        "  index[i] = -1\n",
        "print_data(data, MAXNUM)\n",
        "\n",
        "print('雜湊表內容 : ')\n",
        "for i in range(MAXNUM) :\n",
        "  create_table(data[i], index)\n",
        "  print(' %2d =>' % data[i], end = '')\n",
        "  print_data(index, INDEXBOX)\n",
        "\n",
        "print('完成雜湊表 :')\n",
        "print_data(index, INDEXBOX)"
      ],
      "execution_count": null,
      "outputs": [
        {
          "output_type": "stream",
          "text": [
            "原始陣列值 : \n",
            "\t[10] [17] [ 8] [ 9] [ 8] [15] [ 6] \n",
            "雜湊表內容 : \n",
            " 10 =>\t[10] [-1] [-1] [-1] [-1] [-1] [-1] [-1] [-1] [-1] \n",
            " 17 =>\t[10] [-1] [-1] [-1] [-1] [-1] [-1] [17] [-1] [-1] \n",
            "  8 =>\t[10] [-1] [-1] [-1] [-1] [-1] [-1] [17] [ 8] [-1] \n",
            "  9 =>\t[10] [-1] [-1] [-1] [-1] [-1] [-1] [17] [ 8] [ 9] \n",
            "  8 =>\t[10] [ 8] [-1] [-1] [-1] [-1] [-1] [17] [ 8] [ 9] \n",
            " 15 =>\t[10] [ 8] [-1] [-1] [-1] [15] [-1] [17] [ 8] [ 9] \n",
            "  6 =>\t[10] [ 8] [-1] [-1] [-1] [15] [ 6] [17] [ 8] [ 9] \n",
            "完成雜湊表 :\n",
            "\t[10] [ 8] [-1] [-1] [-1] [15] [ 6] [17] [ 8] [ 9] \n"
          ],
          "name": "stdout"
        }
      ]
    },
    {
      "cell_type": "code",
      "metadata": {
        "id": "Cz4IV0J5CoZC",
        "outputId": "5487ed67-04e4-40c1-b513-082a95b9a676",
        "colab": {
          "base_uri": "https://localhost:8080/",
          "height": 272
        }
      },
      "source": [
        "# 平⽅探測 ( quadratic probing )\n",
        "\n",
        "import random\n",
        "\n",
        "INDEXBOX = 10\n",
        "MAXNUM = 7\n",
        "\n",
        "def print_data(data, max_number) :\n",
        "  print('\\t', end = '')\n",
        "  for i in range(max_number) :\n",
        "    print('[%2d] ' % data[i], end = '')\n",
        "  print()\n",
        "\n",
        "def create_table (num, index) :\n",
        "  tmp = num % INDEXBOX\n",
        "  while True :\n",
        "    if index[tmp] == -1 :\n",
        "      index[tmp] = num\n",
        "      break\n",
        "    else :\n",
        "      b = a * a\n",
        "      c = num + b\n",
        "      return c_t(c, index, b, a)\n",
        "\n",
        "def c_t(num, index, b, a) :\n",
        "  tmp = num % INDEXBOX\n",
        "  while True :\n",
        "    num = num - b\n",
        "    if index[tmp] == -1 :\n",
        "      index[tmp] = num\n",
        "      break\n",
        "    else :\n",
        "      a = a + 1\n",
        "      b = a * a\n",
        "      c = num + b\n",
        "      return c_t(c, index, b, a)\n",
        "\n",
        "# Main\n",
        "\n",
        "index = [None] * INDEXBOX\n",
        "data = [None] * MAXNUM\n",
        "\n",
        "print('原始陣列值 : ')\n",
        "for i in range(MAXNUM) :\n",
        "  data[i] = random.randint(1, 20)\n",
        "for i in range(INDEXBOX) :\n",
        "  index[i] = -1\n",
        "print_data(data, MAXNUM)\n",
        "\n",
        "print('雜湊表內容 : ')\n",
        "a = 1\n",
        "for i in range(MAXNUM) :\n",
        "  create_table(data[i], index)\n",
        "  print(' %2d =>' % data[i], end = '')\n",
        "  print_data(index, INDEXBOX)\n",
        "\n",
        "print('完成雜湊表 :')\n",
        "print_data(index, INDEXBOX)"
      ],
      "execution_count": 54,
      "outputs": [
        {
          "output_type": "stream",
          "text": [
            "原始陣列值 : \n",
            "\t[ 7] [19] [ 4] [12] [11] [ 2] [12] \n",
            "雜湊表內容 : \n",
            "  7 =>\t[-1] [-1] [-1] [-1] [-1] [-1] [-1] [ 7] [-1] [-1] \n",
            " 19 =>\t[-1] [-1] [-1] [-1] [-1] [-1] [-1] [ 7] [-1] [19] \n",
            "  4 =>\t[-1] [-1] [-1] [-1] [ 4] [-1] [-1] [ 7] [-1] [19] \n",
            " 12 =>\t[-1] [-1] [12] [-1] [ 4] [-1] [-1] [ 7] [-1] [19] \n",
            " 11 =>\t[-1] [11] [12] [-1] [ 4] [-1] [-1] [ 7] [-1] [19] \n",
            "  2 =>\t[-1] [11] [12] [ 2] [ 4] [-1] [-1] [ 7] [-1] [19] \n",
            "2\n",
            "4\n",
            "16\n",
            " 12 =>\t[-1] [11] [12] [ 2] [ 4] [-1] [12] [ 7] [-1] [19] \n",
            "完成雜湊表 :\n",
            "\t[-1] [11] [12] [ 2] [ 4] [-1] [12] [ 7] [-1] [19] \n"
          ],
          "name": "stdout"
        }
      ]
    },
    {
      "cell_type": "code",
      "metadata": {
        "id": "qyXksY0WFcSx",
        "outputId": "d19722c7-0a94-46bc-f5d5-d0109e4a9a1c",
        "colab": {
          "base_uri": "https://localhost:8080/",
          "height": 221
        }
      },
      "source": [
        "# 平⽅探測 ( quadratic probing )\n",
        "\n",
        "import random\n",
        "\n",
        "INDEXBOX = 10\n",
        "MAXNUM = 7\n",
        "\n",
        "def print_data(data, max_number) :\n",
        "  print('\\t', end = '')\n",
        "  for i in range(max_number) :\n",
        "    print('[%2d] ' % data[i], end = '')\n",
        "  print()\n",
        "\n",
        "def create_table (num, index) :\n",
        "  tmp = num % INDEXBOX\n",
        "  while True :\n",
        "    if index[tmp] == -1 :\n",
        "      index[tmp] = num\n",
        "      break\n",
        "    else :\n",
        "      tmp = (tmp + 2) % INDEXBOX\n",
        "      \n",
        "# Main\n",
        "\n",
        "index = [None] * INDEXBOX\n",
        "data = [None] * MAXNUM\n",
        "\n",
        "print('原始陣列值 : ')\n",
        "for i in range(MAXNUM) :\n",
        "  data[i] = random.randint(1, 20)\n",
        "for i in range(INDEXBOX) :\n",
        "  index[i] = -1\n",
        "print_data(data, MAXNUM)\n",
        "\n",
        "print('雜湊表內容 : ')\n",
        "for i in range(MAXNUM) :\n",
        "  create_table(data[i], index)\n",
        "  print(' %2d =>' % data[i], end = '')\n",
        "  print_data(index, INDEXBOX)\n",
        "\n",
        "print('完成雜湊表 :')\n",
        "print_data(index, INDEXBOX)"
      ],
      "execution_count": 41,
      "outputs": [
        {
          "output_type": "stream",
          "text": [
            "原始陣列值 : \n",
            "\t[17] [ 5] [19] [17] [13] [18] [12] \n",
            "雜湊表內容 : \n",
            " 17 =>\t[-1] [-1] [-1] [-1] [-1] [-1] [-1] [17] [-1] [-1] \n",
            "  5 =>\t[-1] [-1] [-1] [-1] [-1] [ 5] [-1] [17] [-1] [-1] \n",
            " 19 =>\t[-1] [-1] [-1] [-1] [-1] [ 5] [-1] [17] [-1] [19] \n",
            " 17 =>\t[-1] [17] [-1] [-1] [-1] [ 5] [-1] [17] [-1] [19] \n",
            " 13 =>\t[-1] [17] [-1] [13] [-1] [ 5] [-1] [17] [-1] [19] \n",
            " 18 =>\t[-1] [17] [-1] [13] [-1] [ 5] [-1] [17] [18] [19] \n",
            " 12 =>\t[-1] [17] [12] [13] [-1] [ 5] [-1] [17] [18] [19] \n",
            "完成雜湊表 :\n",
            "\t[-1] [17] [12] [13] [-1] [ 5] [-1] [17] [18] [19] \n"
          ],
          "name": "stdout"
        }
      ]
    }
  ]
}