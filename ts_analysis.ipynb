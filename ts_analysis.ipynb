{
  "nbformat": 4,
  "nbformat_minor": 0,
  "metadata": {
    "colab": {
      "name": "ts_analysis.ipynb",
      "provenance": [],
      "collapsed_sections": [],
      "authorship_tag": "ABX9TyNHr8/AgUblYDL5RYXcVhkR",
      "include_colab_link": true
    },
    "kernelspec": {
      "name": "python3",
      "display_name": "Python 3"
    }
  },
  "cells": [
    {
      "cell_type": "markdown",
      "metadata": {
        "id": "view-in-github",
        "colab_type": "text"
      },
      "source": [
        "<a href=\"https://colab.research.google.com/github/littlesock/Algorithm/blob/master/ts_analysis.ipynb\" target=\"_parent\"><img src=\"https://colab.research.google.com/assets/colab-badge.svg\" alt=\"Open In Colab\"/></a>"
      ]
    },
    {
      "cell_type": "code",
      "metadata": {
        "id": "AzFi5eWw50Ys",
        "outputId": "6ba87395-84cc-4b60-c28b-03bf55f9dfa1",
        "colab": {
          "base_uri": "https://localhost:8080/"
        }
      },
      "source": [
        "# 如何判斷某年是否為潤年\n",
        "\n",
        "# 時間換空間\n",
        "\n",
        "#方法一 :\n",
        "\n",
        "year = int(input('請輸入年份: '))\n",
        "if (year % 4) == 0:\n",
        "   if (year % 100) == 0:\n",
        "       if (year % 400) == 0:\n",
        "           print('%d年是閏年' % year)   # 被400整除是潤年\n",
        "       else:\n",
        "           print('%d年不是閏年' % year)\n",
        "   else:\n",
        "       print('%d年是閏年' % year)       # 被4整除是潤年\n",
        "else:\n",
        "   print('%d年不是閏年' % year)\n",
        "\n",
        "\n",
        "# 方法二 :\n",
        "\n",
        "year = int(input('請輸入年份: '))\n",
        "if (year % 4) == 0 and (year % 100) !=0 or (year % 400) == 0:\n",
        "    print('%d年是閏年' % year)\n",
        "else:\n",
        "    print('%d年不是閏年' % year)"
      ],
      "execution_count": 21,
      "outputs": [
        {
          "output_type": "stream",
          "text": [
            "输入年份: 10000\n",
            "10000年是閏年\n",
            "請輸入年份:150\n",
            "150年不是閏年\n"
          ],
          "name": "stdout"
        }
      ]
    },
    {
      "cell_type": "code",
      "metadata": {
        "id": "SGmU7kNu6LdQ",
        "outputId": "322e5eed-4961-4ba7-da81-35cb57c3e011",
        "colab": {
          "base_uri": "https://localhost:8080/"
        }
      },
      "source": [
        "# 如何判斷某年是否為潤年\n",
        "\n",
        "# 方法二 : 空間換時間\n",
        "\n",
        "\n",
        "start_year = int(input('請輸入起始年份:'))\n",
        "end_year = int(input('請輸入結束年份:'))\n",
        "leap_year_list = [ ]  # 閏年陣列\n",
        "for year in range(start_year,end_year+1):\n",
        "      if (year % 4) == 0:\n",
        "          if (year % 100) == 0:\n",
        "              if (year % 400) == 0:\n",
        "                  leap_year_list.append(year)            # 被400整除是潤年\n",
        "          else:\n",
        "              leap_year_list.append(year)                # 被4整除是潤年\n",
        "print('\\n')\n",
        "\n",
        "year = int(input('請輸入年份: '))   \n",
        "if year in leap_year_list:   #符合閏年\n",
        "  print('%d年是閏年' % year)\n",
        "else:\n",
        "  print('%d年不是閏年' % year)  #不符合潤年\n"
      ],
      "execution_count": 38,
      "outputs": [
        {
          "output_type": "stream",
          "text": [
            "請輸入起始年份:2020\n",
            "請輸入結束年份:2040\n",
            "\n",
            "\n",
            "請輸入年份: 2040\n",
            "2040年是閏年\n"
          ],
          "name": "stdout"
        }
      ]
    }
  ]
}