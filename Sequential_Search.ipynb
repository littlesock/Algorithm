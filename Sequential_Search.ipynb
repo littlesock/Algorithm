{
  "nbformat": 4,
  "nbformat_minor": 0,
  "metadata": {
    "colab": {
      "name": "Sequential Search.ipynb",
      "provenance": [],
      "authorship_tag": "ABX9TyPxxLd2xUgfuUOLbkXTT3X6",
      "include_colab_link": true
    },
    "kernelspec": {
      "name": "python3",
      "display_name": "Python 3"
    }
  },
  "cells": [
    {
      "cell_type": "markdown",
      "metadata": {
        "id": "view-in-github",
        "colab_type": "text"
      },
      "source": [
        "<a href=\"https://colab.research.google.com/github/littlesock/Algorithm/blob/master/Sequential_Search.ipynb\" target=\"_parent\"><img src=\"https://colab.research.google.com/assets/colab-badge.svg\" alt=\"Open In Colab\"/></a>"
      ]
    },
    {
      "cell_type": "code",
      "metadata": {
        "id": "k6nfLqi9w8Os",
        "outputId": "d943ef03-8ff3-4fe4-873f-765a904e15f5",
        "colab": {
          "base_uri": "https://localhost:8080/",
          "height": 34
        }
      },
      "source": [
        "data = [20, 31, 50, 17, 16, 36, 19, 8]\n",
        "def Sequential_Search(data, key) :\n",
        "  for i in data :\n",
        "    if i == key :\n",
        "      print('找到了')\n",
        "      break\n",
        "Sequential_Search(data, 17)"
      ],
      "execution_count": 1,
      "outputs": [
        {
          "output_type": "stream",
          "text": [
            "找到了\n"
          ],
          "name": "stdout"
        }
      ]
    }
  ]
}