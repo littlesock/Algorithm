{
  "nbformat": 4,
  "nbformat_minor": 0,
  "metadata": {
    "colab": {
      "name": "Sequential Search.ipynb",
      "provenance": [],
      "collapsed_sections": [],
      "authorship_tag": "ABX9TyPWqi4fCgLTyikJwPoM1Ehc",
      "include_colab_link": true
    },
    "kernelspec": {
      "name": "python3",
      "display_name": "Python 3"
    }
  },
  "cells": [
    {
      "cell_type": "markdown",
      "metadata": {
        "id": "view-in-github",
        "colab_type": "text"
      },
      "source": [
        "<a href=\"https://colab.research.google.com/github/littlesock/Algorithm/blob/master/Sequential_Search.ipynb\" target=\"_parent\"><img src=\"https://colab.research.google.com/assets/colab-badge.svg\" alt=\"Open In Colab\"/></a>"
      ]
    },
    {
      "cell_type": "code",
      "metadata": {
        "id": "k6nfLqi9w8Os",
        "outputId": "57e1e0f3-b70c-4cfc-fd80-e807c1f9277d",
        "colab": {
          "base_uri": "https://localhost:8080/",
          "height": 34
        }
      },
      "source": [
        "data = [20, 31, 50, 17, 16, 36, 19, 8]\n",
        "def Sequential_Search(data, key) :\n",
        "  for i in data :\n",
        "    if i == key :\n",
        "      print('找到了')\n",
        "      break\n",
        "Sequential_Search(data, 17)"
      ],
      "execution_count": 23,
      "outputs": [
        {
          "output_type": "stream",
          "text": [
            "找到了\n"
          ],
          "name": "stdout"
        }
      ]
    },
    {
      "cell_type": "code",
      "metadata": {
        "id": "8gm4JWSY2BaI",
        "outputId": "26109141-fca8-453f-fd2e-45dfb63cf1ab",
        "colab": {
          "base_uri": "https://localhost:8080/",
          "height": 34
        }
      },
      "source": [
        "data = [20, 31, 50, 17, 16, 36, 19, 8]\n",
        "def Sequential_Search(data, key) :\n",
        "  for i in data :\n",
        "    if i == key :\n",
        "      print('找到了')\n",
        "      break\n",
        "  if i != key :\n",
        "        print('找不到 %d' % key)\n",
        "Sequential_Search(data, 21)"
      ],
      "execution_count": 24,
      "outputs": [
        {
          "output_type": "stream",
          "text": [
            "找不到 21\n"
          ],
          "name": "stdout"
        }
      ]
    }
  ]
}