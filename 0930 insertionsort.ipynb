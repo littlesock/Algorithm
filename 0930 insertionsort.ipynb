{
  "nbformat": 4,
  "nbformat_minor": 0,
  "metadata": {
    "colab": {
      "name": "insertionsort.ipynb",
      "provenance": [],
      "collapsed_sections": [],
      "include_colab_link": true
    },
    "kernelspec": {
      "name": "python3",
      "display_name": "Python 3"
    }
  },
  "cells": [
    {
      "cell_type": "markdown",
      "metadata": {
        "id": "view-in-github",
        "colab_type": "text"
      },
      "source": [
        "<a href=\"https://colab.research.google.com/github/littlesock/Algorithm/blob/master/0930%20insertionsort.ipynb\" target=\"_parent\"><img src=\"https://colab.research.google.com/assets/colab-badge.svg\" alt=\"Open In Colab\"/></a>"
      ]
    },
    {
      "cell_type": "markdown",
      "metadata": {
        "id": "j95w6SLwOC0z"
      },
      "source": [
        "Insertion sort (插入排序)"
      ]
    },
    {
      "cell_type": "code",
      "metadata": {
        "id": "BxBaYEwzNj_v",
        "outputId": "e5f4f33c-b6c0-4bc3-ddd2-35fe010a6c19",
        "colab": {
          "base_uri": "https://localhost:8080/",
          "height": 289
        }
      },
      "source": [
        "\n",
        "def Insertion_Sort(datas):\n",
        "    for i in range(1, len(datas)):  # n\n",
        "        for j in range(i):     # n * n\n",
        "            current = datas[i]  # 1\n",
        "            if current < datas[j]: # n * n\n",
        "                for k in range(i,j): # n * n\n",
        "                  print(datas)           \n",
        "    return datas     # 1\n",
        "              #總共 : 3n^2 + n + 2    Big O : n^3\n",
        "\n",
        "\n",
        "def insertionSort(arr):\n",
        "    for i in range(len(arr)): \n",
        "        preIndex = i-1    \n",
        "        current = arr[i]  \n",
        "        while preIndex >= 0 and arr[preIndex] > current:  \n",
        "            arr[preIndex+1] = arr[preIndex] \n",
        "            preIndex-=1 \n",
        "        arr[preIndex+1] = current \n",
        "        print(arr)\n",
        "    return arr\n",
        "\n",
        "if __name__ == '__main__':\n",
        "    import random\n",
        "    a = list(range(1,16))\n",
        "    random.shuffle(a)\n",
        "    b = a.copy()\n",
        "\n",
        "    arr = insertionSort(a)\n",
        "    print('---'*10)\n",
        "    Insertion_Sort(b)"
      ],
      "execution_count": null,
      "outputs": [
        {
          "output_type": "stream",
          "text": [
            "[14, 1, 11, 12, 15, 9, 13, 10, 5, 8, 2, 7, 4, 6, 3]\n",
            "[1, 14, 11, 12, 15, 9, 13, 10, 5, 8, 2, 7, 4, 6, 3]\n",
            "[1, 11, 14, 12, 15, 9, 13, 10, 5, 8, 2, 7, 4, 6, 3]\n",
            "[1, 11, 12, 14, 15, 9, 13, 10, 5, 8, 2, 7, 4, 6, 3]\n",
            "[1, 11, 12, 14, 15, 9, 13, 10, 5, 8, 2, 7, 4, 6, 3]\n",
            "[1, 9, 11, 12, 14, 15, 13, 10, 5, 8, 2, 7, 4, 6, 3]\n",
            "[1, 9, 11, 12, 13, 14, 15, 10, 5, 8, 2, 7, 4, 6, 3]\n",
            "[1, 9, 10, 11, 12, 13, 14, 15, 5, 8, 2, 7, 4, 6, 3]\n",
            "[1, 5, 9, 10, 11, 12, 13, 14, 15, 8, 2, 7, 4, 6, 3]\n",
            "[1, 5, 8, 9, 10, 11, 12, 13, 14, 15, 2, 7, 4, 6, 3]\n",
            "[1, 2, 5, 8, 9, 10, 11, 12, 13, 14, 15, 7, 4, 6, 3]\n",
            "[1, 2, 5, 7, 8, 9, 10, 11, 12, 13, 14, 15, 4, 6, 3]\n",
            "[1, 2, 4, 5, 7, 8, 9, 10, 11, 12, 13, 14, 15, 6, 3]\n",
            "[1, 2, 4, 5, 6, 7, 8, 9, 10, 11, 12, 13, 14, 15, 3]\n",
            "[1, 2, 3, 4, 5, 6, 7, 8, 9, 10, 11, 12, 13, 14, 15]\n",
            "------------------------------\n"
          ],
          "name": "stdout"
        }
      ]
    },
    {
      "cell_type": "code",
      "metadata": {
        "id": "pdR_LMFtDf4y"
      },
      "source": [
        "#"
      ],
      "execution_count": null,
      "outputs": []
    }
  ]
}