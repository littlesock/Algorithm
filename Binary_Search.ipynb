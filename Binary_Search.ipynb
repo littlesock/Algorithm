{
  "nbformat": 4,
  "nbformat_minor": 0,
  "metadata": {
    "colab": {
      "name": "Binary Search.ipynb",
      "provenance": [],
      "collapsed_sections": [],
      "authorship_tag": "ABX9TyM/vwFA65BfgKpxWDUAqgjV",
      "include_colab_link": true
    },
    "kernelspec": {
      "name": "python3",
      "display_name": "Python 3"
    }
  },
  "cells": [
    {
      "cell_type": "markdown",
      "metadata": {
        "id": "view-in-github",
        "colab_type": "text"
      },
      "source": [
        "<a href=\"https://colab.research.google.com/github/littlesock/Algorithm/blob/master/Binary_Search.ipynb\" target=\"_parent\"><img src=\"https://colab.research.google.com/assets/colab-badge.svg\" alt=\"Open In Colab\"/></a>"
      ]
    },
    {
      "cell_type": "code",
      "metadata": {
        "id": "Eh8QBn2PyHNO",
        "outputId": "409073e8-32a4-4f66-ecfe-72c518c9f772",
        "colab": {
          "base_uri": "https://localhost:8080/",
          "height": 34
        }
      },
      "source": [
        "def binarySearch (arr, l, r, x) :\n",
        "  if r >= l :\n",
        "    mid = l + (r - l) // 2\n",
        "    if arr[mid] == x :\n",
        "      return mid\n",
        "    \n",
        "    elif arr[mid] > x :\n",
        "      return binarySearch(arr, l, mid - 1, x)\n",
        "    \n",
        "    else :\n",
        "      return binarySearch(arr, mid + 1, r, x)\n",
        "  \n",
        "  else :\n",
        "    return -1\n",
        "\n",
        "arr = [5, 8, 9, 15, 30]\n",
        "x = 9\n",
        "\n",
        "# Funcion call\n",
        "result = binarySearch(arr, 0, len(arr)-1, x)\n",
        "\n",
        "if result != -1 :\n",
        "  print('元素在索引 %d' % result)\n",
        "else :\n",
        "  print('陣列中找不到該元素')"
      ],
      "execution_count": 2,
      "outputs": [
        {
          "output_type": "stream",
          "text": [
            "元素在索引 2\n"
          ],
          "name": "stdout"
        }
      ]
    },
    {
      "cell_type": "code",
      "metadata": {
        "id": "RtHxdOoV8Xl-",
        "outputId": "af74ccc2-4ab6-4553-d899-1e5f29b93db2",
        "colab": {
          "base_uri": "https://localhost:8080/",
          "height": 34
        }
      },
      "source": [
        "def binarySearch (arr, l, r, x) :\n",
        "  if r >= l :\n",
        "    mid = l + (r - l) // 2\n",
        "    if arr[mid] == x :\n",
        "      return mid\n",
        "    \n",
        "    elif arr[mid] > x :\n",
        "      return binarySearch(arr, l, mid - 1, x)\n",
        "    \n",
        "    else :\n",
        "      return binarySearch(arr, mid + 1, r, x)\n",
        "  \n",
        "  else :\n",
        "    return -1\n",
        "\n",
        "arr = [5, 8, 9, 15, 30]\n",
        "x = 10\n",
        "\n",
        "# Funcion call\n",
        "result = binarySearch(arr, 0, len(arr)-1, x)\n",
        "\n",
        "if result != -1 :\n",
        "  print('元素在索引 %d' % result)\n",
        "else :\n",
        "  print('陣列中找不到該元素')"
      ],
      "execution_count": 3,
      "outputs": [
        {
          "output_type": "stream",
          "text": [
            "陣列中找不到該元素\n"
          ],
          "name": "stdout"
        }
      ]
    }
  ]
}