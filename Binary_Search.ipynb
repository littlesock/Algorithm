{
  "nbformat": 4,
  "nbformat_minor": 0,
  "metadata": {
    "colab": {
      "name": "Binary Search.ipynb",
      "provenance": [],
      "collapsed_sections": [],
      "authorship_tag": "ABX9TyPUZTeNVJRAoFe6sbr6TWMz",
      "include_colab_link": true
    },
    "kernelspec": {
      "name": "python3",
      "display_name": "Python 3"
    }
  },
  "cells": [
    {
      "cell_type": "markdown",
      "metadata": {
        "id": "view-in-github",
        "colab_type": "text"
      },
      "source": [
        "<a href=\"https://colab.research.google.com/github/littlesock/Algorithm/blob/master/Binary_Search.ipynb\" target=\"_parent\"><img src=\"https://colab.research.google.com/assets/colab-badge.svg\" alt=\"Open In Colab\"/></a>"
      ]
    },
    {
      "cell_type": "code",
      "metadata": {
        "id": "Eh8QBn2PyHNO",
        "outputId": "409073e8-32a4-4f66-ecfe-72c518c9f772",
        "colab": {
          "base_uri": "https://localhost:8080/",
          "height": 34
        }
      },
      "source": [
        "def binarySearch (arr, l, r, x) :\n",
        "  if r >= l :\n",
        "    mid = l + (r - l) // 2\n",
        "    if arr[mid] == x :\n",
        "      return mid\n",
        "    \n",
        "    elif arr[mid] > x :\n",
        "      return binarySearch(arr, l, mid - 1, x)\n",
        "    \n",
        "    else :\n",
        "      return binarySearch(arr, mid + 1, r, x)\n",
        "  \n",
        "  else :\n",
        "    return -1\n",
        "\n",
        "arr = [5, 8, 9, 15, 30]\n",
        "x = 9\n",
        "\n",
        "# Funcion call\n",
        "result = binarySearch(arr, 0, len(arr)-1, x)\n",
        "\n",
        "if result != -1 :\n",
        "  print('元素在索引 %d' % result)\n",
        "else :\n",
        "  print('陣列中找不到該元素')"
      ],
      "execution_count": 2,
      "outputs": [
        {
          "output_type": "stream",
          "text": [
            "元素在索引 2\n"
          ],
          "name": "stdout"
        }
      ]
    },
    {
      "cell_type": "code",
      "metadata": {
        "id": "RtHxdOoV8Xl-",
        "outputId": "6ac60e6f-34b1-420b-d5e2-3b8a7f1d9a2e",
        "colab": {
          "base_uri": "https://localhost:8080/",
          "height": 68
        }
      },
      "source": [
        "def bubbleSort(arr):\n",
        "    n = len(arr)\n",
        "    for i in range(n):\n",
        "        for j in range(0, n-i-1): \n",
        "            if arr[j] > arr[j+1] :\n",
        "                arr[j], arr[j+1] = arr[j+1], arr[j]\n",
        "\n",
        "def binarySearch (arr, l, r, x) :\n",
        "  if r >= l :\n",
        "    mid = l + (r - l) // 2\n",
        "    if arr[mid] == x :\n",
        "      return mid\n",
        "    \n",
        "    elif arr[mid] > x :\n",
        "      return binarySearch(arr, l, mid - 1, x)\n",
        "    \n",
        "    else :\n",
        "      return binarySearch(arr, mid + 1, r, x)\n",
        "  \n",
        "  else :\n",
        "    return -1\n",
        "\n",
        "\n",
        "arr = []                               # 建立一個空串列\n",
        "arr = list(map(int, input('輸入所有數字: ').split(\" \")))     # 輸入任意數字\n",
        "bubbleSort(arr)                            # 將任意數進行泡泡排序\n",
        "print ('排序後的結果: ', arr)                    # 輸出排序後的結果結果\n",
        "\n",
        "\n",
        "x = 10\n",
        "\n",
        "# Funcion call\n",
        "result = binarySearch(arr, 0, len(arr)-1, x)\n",
        "\n",
        "if result != -1 :\n",
        "  print('元素在索引 %d' % result)\n",
        "else :\n",
        "  print('陣列中找不到該元素')"
      ],
      "execution_count": 9,
      "outputs": [
        {
          "output_type": "stream",
          "text": [
            "輸入所有數字: 20 15 56 89 41 100 10\n",
            "排序後的結果:  [10, 15, 20, 41, 56, 89, 100]\n",
            "元素在索引 0\n"
          ],
          "name": "stdout"
        }
      ]
    },
    {
      "cell_type": "code",
      "metadata": {
        "id": "X9R8NGozAfCe",
        "outputId": "dbd3193f-a4f4-429f-fabb-35694d770787",
        "colab": {
          "base_uri": "https://localhost:8080/",
          "height": 68
        }
      },
      "source": [
        "def bubbleSort(arr):\n",
        "    n = len(arr)\n",
        "    for i in range(n):\n",
        "        for j in range(0, n-i-1): \n",
        "            if arr[j] > arr[j+1] :\n",
        "                arr[j], arr[j+1] = arr[j+1], arr[j]\n",
        "\n",
        "def binarySearch (arr, l, r, x) :\n",
        "  if r >= l :\n",
        "    mid = l + (r - l) // 2\n",
        "    if arr[mid] == x :\n",
        "      return mid\n",
        "    \n",
        "    elif arr[mid] > x :\n",
        "      return binarySearch(arr, l, mid - 1, x)\n",
        "    \n",
        "    else :\n",
        "      return binarySearch(arr, mid + 1, r, x)\n",
        "  \n",
        "  else :\n",
        "    return -1\n",
        "\n",
        "\n",
        "arr = []                               # 建立一個空串列\n",
        "arr = list(map(int, input('輸入所有數字: ').split(\" \")))     # 輸入任意數字\n",
        "bubbleSort(arr)                            # 將任意數進行泡泡排序\n",
        "print ('排序後的結果: ', arr)                    # 輸出排序後的結果結果\n",
        "\n",
        "\n",
        "x = 10\n",
        "\n",
        "# Funcion call\n",
        "result = binarySearch(arr, 0, len(arr)-1, x)\n",
        "\n",
        "if result != -1 :\n",
        "  print('元素在索引 %d' % result)\n",
        "else :\n",
        "  print('陣列中找不到該元素')"
      ],
      "execution_count": 10,
      "outputs": [
        {
          "output_type": "stream",
          "text": [
            "輸入所有數字: 20 56 897 54 100 23 89\n",
            "排序後的結果:  [20, 23, 54, 56, 89, 100, 897]\n",
            "陣列中找不到該元素\n"
          ],
          "name": "stdout"
        }
      ]
    }
  ]
}