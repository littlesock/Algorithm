{
  "nbformat": 4,
  "nbformat_minor": 0,
  "metadata": {
    "colab": {
      "name": "1202.ipynb",
      "provenance": [],
      "collapsed_sections": [],
      "authorship_tag": "ABX9TyOF7LB1ga5L9Zz5+athjgN2",
      "include_colab_link": true
    },
    "kernelspec": {
      "name": "python3",
      "display_name": "Python 3"
    }
  },
  "cells": [
    {
      "cell_type": "markdown",
      "metadata": {
        "id": "view-in-github",
        "colab_type": "text"
      },
      "source": [
        "<a href=\"https://colab.research.google.com/github/littlesock/Algorithm/blob/master/1202.ipynb\" target=\"_parent\"><img src=\"https://colab.research.google.com/assets/colab-badge.svg\" alt=\"Open In Colab\"/></a>"
      ]
    },
    {
      "cell_type": "code",
      "metadata": {
        "colab": {
          "base_uri": "https://localhost:8080/"
        },
        "id": "Q2-pxLF2_w88",
        "outputId": "e4c42343-b95a-43f7-c5d2-dfcc48f66216"
      },
      "source": [
        "# 硬幣問題 貪婪法\n",
        "\n",
        "\n",
        "# t = 面額\n",
        "t = [25, 20, 5, 1]\n",
        "\n",
        "# n = 多少錢\n",
        "def change (t, n) :\n",
        "\n",
        "  m = [0 for _ in range(len(t))]\n",
        "\n",
        "  for i, money in enumerate(t):\n",
        "    m[i] = n // money\n",
        "    n = n % money\n",
        "    print(m, end=' ')\n",
        "    print(n)\n",
        "\n",
        "m = eval(input('金額：'))\n",
        "print(change(t, m))\n",
        "\n"
      ],
      "execution_count": 127,
      "outputs": [
        {
          "output_type": "stream",
          "text": [
            "金額：41\n",
            "[1, 0, 0, 0] 16\n",
            "[1, 0, 0, 0] 16\n",
            "[1, 0, 3, 0] 1\n",
            "[1, 0, 3, 1] 0\n",
            "None\n"
          ],
          "name": "stdout"
        }
      ]
    },
    {
      "cell_type": "code",
      "metadata": {
        "colab": {
          "base_uri": "https://localhost:8080/"
        },
        "id": "-OV-N60mRJvC",
        "outputId": "a70db0d0-92d1-4885-dd7f-bfcda9597a95"
      },
      "source": [
        "# 硬幣問題 動態規劃\n",
        "\n",
        "\n",
        "def coin_change(coins,change,dp,coins_used):\n",
        "\tfor i in range(1,change+1):\n",
        "\t\t#依次求解，dp[1]~dp[change]\n",
        "\t\tfor j in range(len(coins)):\n",
        "\t\t\tif coins[j]<=i:\n",
        "\t\t\t\t#使用这张钱币的前提，纸币的金额数<=需要找零的金额，比如：找零8块，不能使用10块的钱币\n",
        "\t\t\t\tif dp[i-coins[j]]+1<dp[i]:\n",
        "\t\t\t\t\t#dp[i]=min(dp[i],dp[i-coins[j]]+1)\n",
        "\t\t\t\t\tdp[i]=dp[i-coins[j]]+1\n",
        "\t\t\t\t\t#记录使用的钱币\n",
        "\t\t\t\t\tnew_coin=coins[j]\n",
        "\t\tcoins_used[i]=new_coin\n",
        " \n",
        "\tif dp[change]>change:\n",
        "\t\t#无解的情况，初始化的时候设置dp[change]=change+1\n",
        "\t\treturn -1\n",
        "\telse:\n",
        "\t\treturn dp[change]\n",
        "def used_coins(change,used_coins):\n",
        "\t'''利用used_coins求解使用的硬幣'''\n",
        "\tre=[]\n",
        "\twhile change:\n",
        "\t\t#dp[i]=dp[i-coins[j]]+1    used_coins[change]=coins[j]\n",
        "\t\ttmp=used_coins[change]\n",
        "\t\tre.append(tmp)\n",
        "\t\tchange-=tmp\n",
        "\treturn re\n",
        " \n",
        "if __name__=='__main__':\n",
        "\t#初始化\n",
        "\tcoins=[25, 20, 5, 1]\n",
        "\tchange=41\n",
        "\tdp=[change+1]*(change+1)\n",
        "\tdp[0]=0\n",
        "\tcoins_used=[0]*(change+1)\n",
        " \n",
        "\tre=coin_change(coins,change,dp,coins_used)\n",
        "\tre_coins=used_coins(change,coins_used)\n",
        "\tprint(\"找零{0}元需要{1}張錢幣,分别是{2}\".format(change,re,re_coins))"
      ],
      "execution_count": null,
      "outputs": [
        {
          "output_type": "stream",
          "text": [
            "找零41元需要3張錢幣,分别是[20, 20, 1]\n"
          ],
          "name": "stdout"
        }
      ]
    },
    {
      "cell_type": "code",
      "metadata": {
        "colab": {
          "base_uri": "https://localhost:8080/"
        },
        "id": "LPgFAKip4sH7",
        "outputId": "11a6452b-9e0a-48ef-c06e-15590a4e6872"
      },
      "source": [
        "from random import sample\n",
        "\n",
        "def bag01_greedy_1(volume, price, weight) :\n",
        "  temp = sorted(zip(price, weight),\n",
        "                key = lambda item: item[0]/item[1],\n",
        "                reverse = True)\n",
        "  print(temp)\n",
        "  total_weight = 0\n",
        "  total_price = 0\n",
        "  selected_index = []\n",
        "  for index, (p,w) in enumerate(temp) :\n",
        "    if total_weight + w > volume : \n",
        "      break\n",
        "    total_weight = total_weight + w\n",
        "    total_price = total_price + p\n",
        "    selected_index.append(index)\n",
        "  print('碰撞結果 : ', end = ' ')\n",
        "  print(selected_index, total_weight, total_price)\n",
        "\n",
        "def bag01_greedy_2(volume, price, weight) :\n",
        "  temp = sorted(zip(price, weight),\n",
        "                key = lambda item: item[0]/item[1],\n",
        "                reverse = True)\n",
        "  print(temp)\n",
        "  total_weight = 0\n",
        "  total_price = 0\n",
        "  selected_index = []\n",
        "  for index, (p,w) in enumerate(temp) :\n",
        "    if total_weight + w > volume : \n",
        "      continue\n",
        "    total_weight = total_weight + w\n",
        "    total_price = total_price + p\n",
        "    selected_index.append(index)\n",
        "  print('碰撞後結果 : ', end = ' ')\n",
        "  print(selected_index, total_weight, total_price)\n",
        "\n",
        "volume = 10\n",
        "weight = [5,1,4,3,2]\n",
        "price = [17000,35000,60000,9000,20000]\n",
        "bag01_greedy_1(volume, price, weight)\n",
        "bag01_greedy_2(volume, price, weight)\n",
        "\n"
      ],
      "execution_count": 143,
      "outputs": [
        {
          "output_type": "stream",
          "text": [
            "[(35000, 1), (60000, 4), (20000, 2), (17000, 5), (9000, 3)]\n",
            "碰撞結果 :  [0, 1, 2] 7 115000\n",
            "[(35000, 1), (60000, 4), (20000, 2), (17000, 5), (9000, 3)]\n",
            "碰撞後結果 :  [0, 1, 2, 4] 10 124000\n"
          ],
          "name": "stdout"
        }
      ]
    },
    {
      "cell_type": "code",
      "metadata": {
        "colab": {
          "base_uri": "https://localhost:8080/"
        },
        "id": "3IfY5QgEegeI",
        "outputId": "b38dd044-26d9-460e-a4b5-a9dc3e9db064"
      },
      "source": [
        "# 背包問題 動態規劃\n",
        "\n",
        "\n",
        "import numpy as np\n",
        "\n",
        "def solve(vlist,wlist,totalWeight,totalLength):\n",
        "    resArr = np.zeros((totalLength+1,totalWeight+1),dtype=np.int32)\n",
        "    for i in range(1,totalLength+1):\n",
        "        for j in range(1,totalWeight+1):\n",
        "            if wlist[i] <= j:\n",
        "                resArr[i,j] = max(resArr[i-1,j-wlist[i]]+vlist[i],resArr[i-1,j])\n",
        "            else:\n",
        "                resArr[i,j] = resArr[i-1,j]\n",
        "    return resArr[-1,-1]\n",
        "\n",
        "if __name__ == '__main__':\n",
        "    v = [17000,35000,60000,9000,20000]\n",
        "    w = [5,1,4,3,2]\n",
        "    weight = 10\n",
        "    n = 4\n",
        "    result = solve(v,w,weight,n)\n",
        "    print('最大價值 : %d' % result)"
      ],
      "execution_count": null,
      "outputs": [
        {
          "output_type": "stream",
          "text": [
            "最大價值 : 124000\n"
          ],
          "name": "stdout"
        }
      ]
    }
  ]
}