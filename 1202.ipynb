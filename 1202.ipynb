{
  "nbformat": 4,
  "nbformat_minor": 0,
  "metadata": {
    "colab": {
      "name": "1202.ipynb",
      "provenance": [],
      "collapsed_sections": [],
      "authorship_tag": "ABX9TyMtRcGAT7gz8b6iVAvz3HO3",
      "include_colab_link": true
    },
    "kernelspec": {
      "name": "python3",
      "display_name": "Python 3"
    }
  },
  "cells": [
    {
      "cell_type": "markdown",
      "metadata": {
        "id": "view-in-github",
        "colab_type": "text"
      },
      "source": [
        "<a href=\"https://colab.research.google.com/github/littlesock/Algorithm/blob/master/1202.ipynb\" target=\"_parent\"><img src=\"https://colab.research.google.com/assets/colab-badge.svg\" alt=\"Open In Colab\"/></a>"
      ]
    },
    {
      "cell_type": "code",
      "metadata": {
        "colab": {
          "base_uri": "https://localhost:8080/"
        },
        "id": "Q2-pxLF2_w88",
        "outputId": "3f1b00df-1c45-4858-95e2-58e0f8974f21"
      },
      "source": [
        "# t = 面額\n",
        "t = [25, 20, 5, 1]\n",
        "\n",
        "# n = 多少錢\n",
        "def change (t, n) :\n",
        "\n",
        "  m = [0 for _ in range(len(t))]\n",
        "\n",
        "  for i, money in enumerate(t):\n",
        "    m[i] = n // money\n",
        "    n = n % money\n",
        "    print(m, end=' ')\n",
        "    print(n)\n",
        "\n",
        "\n",
        "\n",
        "\n",
        "#a = input(int())\n",
        "print(change(t, 41))\n",
        "\n"
      ],
      "execution_count": 47,
      "outputs": [
        {
          "output_type": "stream",
          "text": [
            "[1, 0, 0, 0] 16\n",
            "[1, 0, 0, 0] 16\n",
            "[1, 0, 3, 0] 1\n",
            "[1, 0, 3, 1] 0\n",
            "None\n"
          ],
          "name": "stdout"
        }
      ]
    }
  ]
}