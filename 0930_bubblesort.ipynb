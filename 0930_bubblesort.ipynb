{
  "nbformat": 4,
  "nbformat_minor": 0,
  "metadata": {
    "colab": {
      "name": "0930 bubblesort.ipynb",
      "provenance": [],
      "collapsed_sections": [],
      "authorship_tag": "ABX9TyMT0+2GZhEm1gdvDvd8aeSg",
      "include_colab_link": true
    },
    "kernelspec": {
      "name": "python3",
      "display_name": "Python 3"
    }
  },
  "cells": [
    {
      "cell_type": "markdown",
      "metadata": {
        "id": "view-in-github",
        "colab_type": "text"
      },
      "source": [
        "<a href=\"https://colab.research.google.com/github/littlesock/Algorithm/blob/master/0930_bubblesort.ipynb\" target=\"_parent\"><img src=\"https://colab.research.google.com/assets/colab-badge.svg\" alt=\"Open In Colab\"/></a>"
      ]
    },
    {
      "cell_type": "code",
      "metadata": {
        "id": "OXgnmUTM5XYr",
        "outputId": "2fe54ebd-3264-4f8d-9cae-05d6629e4b24",
        "colab": {
          "base_uri": "https://localhost:8080/",
          "height": 340
        }
      },
      "source": [
        "def bubbleSort(arr):\n",
        "    n = len(arr)\n",
        "    for i in range(n):\n",
        "        for j in range(0, n-i-1): \n",
        "            if arr[j] > arr[j+1] :\n",
        "                arr[j], arr[j+1] = arr[j+1], arr[j]\n",
        "\n",
        "\n",
        "#方法一 : 隔行輸入數字\n",
        "                \n",
        "arr = []                    # 建立一個空的陣列\n",
        "for i in range(0, 6):             # 陣列可儲存6個數字\n",
        "  j = i + 1\n",
        "  i = int(input('第%d個數字:' % j))     # 輸入任意數字\n",
        "  arr.append(i)                 # 將任意數存入陣列中\n",
        "print(arr, end = '\\n')             # 輸入6個任意數字\n",
        " \n",
        "bubbleSort(arr)                  # 將6個任意數進行泡泡排序\n",
        " \n",
        "print ('排序後的結果:')\n",
        "\n",
        "for i in range(len(arr)):\n",
        "  print ('%d' % arr[i])           # 輸出排序後的結果結果\n",
        "print ('\\n\\n')\n",
        "\n",
        "\n",
        "\n",
        "\n",
        "#方法二 : 同行輸入數字\n",
        "\n",
        "arr = []                               # 建立一個空串列\n",
        "arr = list(map(int, input('輸入任意6個數字: ').split(\" \")))    # 輸入6個任意數字\n",
        "\n",
        "bubbleSort(arr)                            # 將6個任意數進行泡泡排序\n",
        " \n",
        "print ('排序後的結果: ', arr)                    # 輸出排序後的結果結果\n",
        "\n",
        "\n"
      ],
      "execution_count": 1,
      "outputs": [
        {
          "output_type": "stream",
          "text": [
            "第1個數字:2\n",
            "第2個數字:56\n",
            "第3個數字:12\n",
            "第4個數字:30\n",
            "第5個數字:400\n",
            "第6個數字:89\n",
            "[2, 56, 12, 30, 400, 89]\n",
            "排序後的結果:\n",
            "2\n",
            "12\n",
            "30\n",
            "56\n",
            "89\n",
            "400\n",
            "\n",
            "\n",
            "\n",
            "輸入任意6個數字: 1 50 623 800 3 70\n",
            "排序後的結果:  [1, 3, 50, 70, 623, 800]\n"
          ],
          "name": "stdout"
        }
      ]
    }
  ]
}