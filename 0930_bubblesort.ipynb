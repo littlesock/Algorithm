{
  "nbformat": 4,
  "nbformat_minor": 0,
  "metadata": {
    "colab": {
      "name": "0930 bubblesort.ipynb",
      "provenance": [],
      "collapsed_sections": [],
      "authorship_tag": "ABX9TyP1P6lkZhoulkw3GjLHg8Vy",
      "include_colab_link": true
    },
    "kernelspec": {
      "name": "python3",
      "display_name": "Python 3"
    }
  },
  "cells": [
    {
      "cell_type": "markdown",
      "metadata": {
        "id": "view-in-github",
        "colab_type": "text"
      },
      "source": [
        "<a href=\"https://colab.research.google.com/github/littlesock/Algorithm/blob/master/0930_bubblesort.ipynb\" target=\"_parent\"><img src=\"https://colab.research.google.com/assets/colab-badge.svg\" alt=\"Open In Colab\"/></a>"
      ]
    },
    {
      "cell_type": "code",
      "metadata": {
        "id": "OXgnmUTM5XYr",
        "outputId": "dc9c36ec-e5e3-4a36-e63f-e819d4bdad9c",
        "colab": {
          "base_uri": "https://localhost:8080/",
          "height": 272
        }
      },
      "source": [
        "def bubbleSort(arr):\n",
        "    n = len(arr)\n",
        "\n",
        "    for i in range(n):\n",
        " \n",
        "\n",
        "        for j in range(0, n-i-1):\n",
        " \n",
        "            if arr[j] > arr[j+1] :\n",
        "                arr[j], arr[j+1] = arr[j+1], arr[j]\n",
        " \n",
        "arr = []  # 建立一個空的陣列\n",
        "for i in range(0, 6): # 陣列有6個\n",
        "  j = i + 1\n",
        "  i = int(input('第%d個數字:' % j))\n",
        "  arr.append(i)\n",
        "print(arr, end = '\\n')\n",
        " \n",
        "bubbleSort(arr)\n",
        " \n",
        "print ('排序後的結果:')\n",
        "for i in range(len(arr)):\n",
        "  print (\"%d\" % arr[i]),"
      ],
      "execution_count": 17,
      "outputs": [
        {
          "output_type": "stream",
          "text": [
            "第1個數字:10\n",
            "第2個數字:100\n",
            "第3個數字:20\n",
            "第4個數字:300\n",
            "第5個數字:500\n",
            "第6個數字:5\n",
            "[10, 100, 20, 300, 500, 5]\n",
            "排序後的結果:\n",
            "5\n",
            "10\n",
            "20\n",
            "100\n",
            "300\n",
            "500\n"
          ],
          "name": "stdout"
        }
      ]
    }
  ]
}