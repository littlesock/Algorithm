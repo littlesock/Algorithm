{
  "nbformat": 4,
  "nbformat_minor": 0,
  "metadata": {
    "colab": {
      "name": "1118期中考.ipynb",
      "provenance": [],
      "collapsed_sections": [],
      "authorship_tag": "ABX9TyPMdYd8eUyG5n8meaHEi39Q",
      "include_colab_link": true
    },
    "kernelspec": {
      "name": "python3",
      "display_name": "Python 3"
    }
  },
  "cells": [
    {
      "cell_type": "markdown",
      "metadata": {
        "id": "view-in-github",
        "colab_type": "text"
      },
      "source": [
        "<a href=\"https://colab.research.google.com/github/littlesock/Algorithm/blob/master/1118%E6%9C%9F%E4%B8%AD%E8%80%83.ipynb\" target=\"_parent\"><img src=\"https://colab.research.google.com/assets/colab-badge.svg\" alt=\"Open In Colab\"/></a>"
      ]
    },
    {
      "cell_type": "code",
      "metadata": {
        "colab": {
          "base_uri": "https://localhost:8080/"
        },
        "id": "Iw5odm4ei2P9",
        "outputId": "d723b689-f752-43c0-d383-ccafa800305a"
      },
      "source": [
        "def Selction_Sort(datas):\n",
        "    n = 0\n",
        "    for i in range(len(datas)-1):\n",
        "        min = i # 第一次選從第一個數開始,第二次從第二個數開始\n",
        "        for j in range(i+1, len(datas)):    # 用記錄的max數與其他的比較\n",
        "            if datas[j] < datas[min]:\n",
        "                min = j\n",
        "\n",
        "        datas[i], datas[min] = datas[min], datas[i]\n",
        "        n = n + 1\n",
        "\n",
        "        print('第 %d 次排序 :' % n, end = ' ')\n",
        "        print(datas)\n",
        "        print('---'*15)\n",
        "    return datas\n",
        "\n",
        "\n",
        "if __name__ == '__main__':\n",
        "    import random\n",
        "    seq = []                # 建立一個空的陣列\n",
        "    for i in range(1, 9) :        # 產生8個變數\n",
        "      a = random.randint(1, 100)     # 變數由1到100隨機抽取\n",
        "      seq.append(a)             # 將抽出的變數新增到陣列中\n",
        "    print('原始數列 :', end = ' ')      \n",
        "    print(seq)                # 原始陣列\n",
        "    print('\\n')\n",
        "    seq = Selction_Sort(seq)        # 將陣列進行選擇排序\n",
        "    print('\\n最終數列 :', end = ' ')\n",
        "    print(seq)                # 印出最終排序結果"
      ],
      "execution_count": 56,
      "outputs": [
        {
          "output_type": "stream",
          "text": [
            "原始數列 : [8, 89, 20, 62, 86, 77, 53, 95]\n",
            "\n",
            "\n",
            "第 1 次排序 : [8, 89, 20, 62, 86, 77, 53, 95]\n",
            "---------------------------------------------\n",
            "第 2 次排序 : [8, 20, 89, 62, 86, 77, 53, 95]\n",
            "---------------------------------------------\n",
            "第 3 次排序 : [8, 20, 53, 62, 86, 77, 89, 95]\n",
            "---------------------------------------------\n",
            "第 4 次排序 : [8, 20, 53, 62, 86, 77, 89, 95]\n",
            "---------------------------------------------\n",
            "第 5 次排序 : [8, 20, 53, 62, 77, 86, 89, 95]\n",
            "---------------------------------------------\n",
            "第 6 次排序 : [8, 20, 53, 62, 77, 86, 89, 95]\n",
            "---------------------------------------------\n",
            "第 7 次排序 : [8, 20, 53, 62, 77, 86, 89, 95]\n",
            "---------------------------------------------\n",
            "\n",
            "最終數列 : [8, 20, 53, 62, 77, 86, 89, 95]\n"
          ],
          "name": "stdout"
        }
      ]
    },
    {
      "cell_type": "code",
      "metadata": {
        "colab": {
          "base_uri": "https://localhost:8080/"
        },
        "id": "OjA_DkL6i3Vm",
        "outputId": "45ec5afe-d53d-4f2e-e1ee-3e8c45795071"
      },
      "source": [
        "def Insertion_Sort(datas):\n",
        "    for i in range(1, len(datas)):  # \n",
        "        for j in range(i):\n",
        "            current = datas[i]\n",
        "            if current < datas[j]:\n",
        "                for k in range(i,j):\n",
        "                  print(datas)\n",
        "    return datas\n",
        "\n",
        "\n",
        "def insertionSort(arr):\n",
        "    n = 0\n",
        "    for i in range(len(arr)):\n",
        "        preIndex = i-1\n",
        "        current = arr[i]\n",
        "        while preIndex >= 0 and arr[preIndex] < current:   # 數值較小的元素，放在右邊(由小到大排序)\n",
        "            arr[preIndex+1] = arr[preIndex]\n",
        "            preIndex-=1\n",
        "        arr[preIndex+1] = current\n",
        "\n",
        "        n = n + 1\n",
        "        print('第 %d 次排序 :' % n, end = ' ')\n",
        "        print(arr)\n",
        "        print('--'*25)\n",
        "    return arr\n",
        "\n",
        "if __name__ == '__main__':\n",
        "    import random\n",
        "    seq = []                # 建立一個空的陣列\n",
        "    for i in range(1, 9) :        # 產生8個變數\n",
        "      a = random.randint(1, 100)     # 變數由1到100隨機抽取\n",
        "      seq.append(a)             # 將抽出的變數新增到陣列中\n",
        "    print('原始數列 :', end = ' ')      \n",
        "    print(seq)                # 原始陣列\n",
        "    print('\\n')\n",
        "    b = seq.copy()\n",
        "\n",
        "    arr = insertionSort(seq)        # 將陣列進行插入排序\n",
        "    Insertion_Sort(b)\n",
        "    print('\\n最終數列 :', end = ' ')\n",
        "    print(seq)                # 印出最終排序結果"
      ],
      "execution_count": 58,
      "outputs": [
        {
          "output_type": "stream",
          "text": [
            "原始數列 : [23, 54, 88, 93, 9, 42, 49, 29]\n",
            "\n",
            "\n",
            "第 1 次排序 : [23, 54, 88, 93, 9, 42, 49, 29]\n",
            "--------------------------------------------------\n",
            "第 2 次排序 : [54, 23, 88, 93, 9, 42, 49, 29]\n",
            "--------------------------------------------------\n",
            "第 3 次排序 : [88, 54, 23, 93, 9, 42, 49, 29]\n",
            "--------------------------------------------------\n",
            "第 4 次排序 : [93, 88, 54, 23, 9, 42, 49, 29]\n",
            "--------------------------------------------------\n",
            "第 5 次排序 : [93, 88, 54, 23, 9, 42, 49, 29]\n",
            "--------------------------------------------------\n",
            "第 6 次排序 : [93, 88, 54, 42, 23, 9, 49, 29]\n",
            "--------------------------------------------------\n",
            "第 7 次排序 : [93, 88, 54, 49, 42, 23, 9, 29]\n",
            "--------------------------------------------------\n",
            "第 8 次排序 : [93, 88, 54, 49, 42, 29, 23, 9]\n",
            "--------------------------------------------------\n",
            "\n",
            "最終數列 : [93, 88, 54, 49, 42, 29, 23, 9]\n"
          ],
          "name": "stdout"
        }
      ]
    }
  ]
}