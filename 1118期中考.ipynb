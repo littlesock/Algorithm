{
  "nbformat": 4,
  "nbformat_minor": 0,
  "metadata": {
    "colab": {
      "name": "1118期中考.ipynb",
      "provenance": [],
      "collapsed_sections": [],
      "authorship_tag": "ABX9TyPMdYd8eUyG5n8meaHEi39Q",
      "include_colab_link": true
    },
    "kernelspec": {
      "name": "python3",
      "display_name": "Python 3"
    }
  },
  "cells": [
    {
      "cell_type": "markdown",
      "metadata": {
        "id": "view-in-github",
        "colab_type": "text"
      },
      "source": [
        "<a href=\"https://colab.research.google.com/github/littlesock/Algorithm/blob/master/1118%E6%9C%9F%E4%B8%AD%E8%80%83.ipynb\" target=\"_parent\"><img src=\"https://colab.research.google.com/assets/colab-badge.svg\" alt=\"Open In Colab\"/></a>"
      ]
    },
    {
      "cell_type": "code",
      "metadata": {
        "colab": {
          "base_uri": "https://localhost:8080/"
        },
        "id": "Iw5odm4ei2P9",
        "outputId": "03cbd2f6-b85c-4ecf-a9a5-d7442fde819a"
      },
      "source": [
        "def Selction_Sort(datas):\n",
        "    n = 0\n",
        "    for i in range(len(datas)-1):\n",
        "        min = i # 第一次選從第一個數開始,第二次從第二個數開始\n",
        "        for j in range(i+1, len(datas)):    # 用記錄的max數與其他的比較\n",
        "            if datas[j] < datas[min]:\n",
        "                min = j\n",
        "\n",
        "        datas[i], datas[min] = datas[min], datas[i]\n",
        "        n = n + 1\n",
        "\n",
        "        print('第 %d 次排序 :' % n, end = ' ')\n",
        "        print(datas)\n",
        "        print('---'*15)\n",
        "    return datas\n",
        "\n",
        "\n",
        "if __name__ == '__main__':\n",
        "    import random\n",
        "    seq = []                # 建立一個空的陣列\n",
        "    for i in range(1, 9) :        # 產生8個變數\n",
        "      a = random.randint(1, 100)     # 變數由1到100隨機抽取\n",
        "      seq.append(a)             # 將抽出的變數新增到陣列中\n",
        "    print('原始數列 :', end = ' ')      \n",
        "    print(seq)                # 原始陣列\n",
        "    print('\\n')\n",
        "    seq = Selction_Sort(seq)        # 將陣列進行選擇排序\n",
        "    print('\\n最終數列 :', end = ' ')\n",
        "    print(seq)                # 印出最終排序結果"
      ],
      "execution_count": 35,
      "outputs": [
        {
          "output_type": "stream",
          "text": [
            "原始數列 : [82, 70, 85, 51, 4, 96, 9, 65]\n",
            "\n",
            "\n",
            "第 1 次排序 : [4, 70, 85, 51, 82, 96, 9, 65]\n",
            "---------------------------------------------\n",
            "第 2 次排序 : [4, 9, 85, 51, 82, 96, 70, 65]\n",
            "---------------------------------------------\n",
            "第 3 次排序 : [4, 9, 51, 85, 82, 96, 70, 65]\n",
            "---------------------------------------------\n",
            "第 4 次排序 : [4, 9, 51, 65, 82, 96, 70, 85]\n",
            "---------------------------------------------\n",
            "第 5 次排序 : [4, 9, 51, 65, 70, 96, 82, 85]\n",
            "---------------------------------------------\n",
            "第 6 次排序 : [4, 9, 51, 65, 70, 82, 96, 85]\n",
            "---------------------------------------------\n",
            "第 7 次排序 : [4, 9, 51, 65, 70, 82, 85, 96]\n",
            "---------------------------------------------\n",
            "\n",
            "最終數列 : [4, 9, 51, 65, 70, 82, 85, 96]\n"
          ],
          "name": "stdout"
        }
      ]
    },
    {
      "cell_type": "code",
      "metadata": {
        "colab": {
          "base_uri": "https://localhost:8080/"
        },
        "id": "OjA_DkL6i3Vm",
        "outputId": "de5d564a-10fc-417c-d23e-e27d1e24c1e0"
      },
      "source": [
        "def Insertion_Sort(datas):\n",
        "    for i in range(1, len(datas)):  # \n",
        "        for j in range(i):\n",
        "            current = datas[i]\n",
        "            if current < datas[j]:\n",
        "                for k in range(i,j):\n",
        "                  print(datas)\n",
        "    return datas\n",
        "\n",
        "\n",
        "def insertionSort(arr):\n",
        "    n = 0\n",
        "    for i in range(len(arr)):\n",
        "        preIndex = i-1\n",
        "        current = arr[i]\n",
        "        while preIndex >= 0 and arr[preIndex] < current:   # 數值較小的元素，放在右邊(由小到大排序)\n",
        "            arr[preIndex+1] = arr[preIndex]\n",
        "            preIndex-=1\n",
        "        arr[preIndex+1] = current\n",
        "\n",
        "        n = n + 1\n",
        "        print('第 %d 次排序 :' % n, end = ' ')\n",
        "        print(arr)\n",
        "        print('--'*25)\n",
        "    return arr\n",
        "\n",
        "if __name__ == '__main__':\n",
        "    import random\n",
        "    seq = []                # 建立一個空的陣列\n",
        "    for i in range(1, 9) :        # 產生8個變數\n",
        "      a = random.randint(1, 100)     # 變數由1到100隨機抽取\n",
        "      seq.append(a)             # 將抽出的變數新增到陣列中\n",
        "    print('原始數列 :', end = ' ')      \n",
        "    print(seq)                # 原始陣列\n",
        "    print('\\n')\n",
        "    b = seq.copy()\n",
        "\n",
        "    arr = insertionSort(seq)        # 將陣列進行插入排序\n",
        "    Insertion_Sort(b)\n",
        "    print('\\n最終數列 :', end = ' ')\n",
        "    print(seq)                # 印出最終排序結果"
      ],
      "execution_count": 53,
      "outputs": [
        {
          "output_type": "stream",
          "text": [
            "原始數列 : [84, 40, 39, 33, 74, 51, 21, 99]\n",
            "\n",
            "\n",
            "第 1 次排序 : [84, 40, 39, 33, 74, 51, 21, 99]\n",
            "--------------------------------------------------\n",
            "第 2 次排序 : [84, 40, 39, 33, 74, 51, 21, 99]\n",
            "--------------------------------------------------\n",
            "第 3 次排序 : [84, 40, 39, 33, 74, 51, 21, 99]\n",
            "--------------------------------------------------\n",
            "第 4 次排序 : [84, 40, 39, 33, 74, 51, 21, 99]\n",
            "--------------------------------------------------\n",
            "第 5 次排序 : [84, 74, 40, 39, 33, 51, 21, 99]\n",
            "--------------------------------------------------\n",
            "第 6 次排序 : [84, 74, 51, 40, 39, 33, 21, 99]\n",
            "--------------------------------------------------\n",
            "第 7 次排序 : [84, 74, 51, 40, 39, 33, 21, 99]\n",
            "--------------------------------------------------\n",
            "第 8 次排序 : [99, 84, 74, 51, 40, 39, 33, 21]\n",
            "--------------------------------------------------\n",
            "\n",
            "最終數列 : [99, 84, 74, 51, 40, 39, 33, 21]\n"
          ],
          "name": "stdout"
        }
      ]
    }
  ]
}